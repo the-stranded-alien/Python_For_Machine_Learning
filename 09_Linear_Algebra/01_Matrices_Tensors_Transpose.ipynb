{
 "cells": [
  {
   "cell_type": "markdown",
   "metadata": {},
   "source": [
    "## 1. Scalar & Vectors\n",
    "\n",
    "- **Scalar** is a Single Number.\n",
    "- **Vector** is an Array of Scalars."
   ]
  },
  {
   "cell_type": "code",
   "execution_count": 1,
   "metadata": {},
   "outputs": [],
   "source": [
    "import numpy as np"
   ]
  },
  {
   "cell_type": "code",
   "execution_count": 2,
   "metadata": {},
   "outputs": [
    {
     "name": "stdout",
     "output_type": "stream",
     "text": [
      "5\n"
     ]
    }
   ],
   "source": [
    "x = 5\n",
    "print(x)"
   ]
  },
  {
   "cell_type": "code",
   "execution_count": 3,
   "metadata": {},
   "outputs": [
    {
     "name": "stdout",
     "output_type": "stream",
     "text": [
      "[[4]\n",
      " [5]\n",
      " [6]]\n"
     ]
    }
   ],
   "source": [
    "x = np.array([[4],[5],[6]]) # Column Vector (Default Vector)\n",
    "print(x)"
   ]
  },
  {
   "cell_type": "markdown",
   "metadata": {},
   "source": [
    "## 2. Matrices & Tensors\n",
    "\n",
    "- **Matrix** is a 2D Array of Scalars.\n",
    "- **Tensor** is an Array With More Than 2 Axes."
   ]
  },
  {
   "cell_type": "code",
   "execution_count": 4,
   "metadata": {},
   "outputs": [
    {
     "name": "stdout",
     "output_type": "stream",
     "text": [
      "(3, 4)\n",
      "[[ 4  5  7 10]\n",
      " [10 11 13 11]\n",
      " [56 80 90 12]]\n"
     ]
    }
   ],
   "source": [
    "X = np.array([[4,5,7,10],\n",
    "             [10,11,13,11],\n",
    "             [56,80,90,12]])\n",
    "\n",
    "print(X.shape)\n",
    "print(X)"
   ]
  },
  {
   "cell_type": "code",
   "execution_count": 5,
   "metadata": {},
   "outputs": [
    {
     "name": "stdout",
     "output_type": "stream",
     "text": [
      "(2, 6)\n",
      "[[ 4  5  7 10 10 11]\n",
      " [13 11 56 80 90 12]]\n"
     ]
    }
   ],
   "source": [
    "X = X.reshape((2,6))\n",
    "print(X.shape)\n",
    "print(X)"
   ]
  },
  {
   "cell_type": "code",
   "execution_count": 6,
   "metadata": {},
   "outputs": [
    {
     "name": "stdout",
     "output_type": "stream",
     "text": [
      "(6, 2)\n",
      "[[ 4  5]\n",
      " [ 7 10]\n",
      " [10 11]\n",
      " [13 11]\n",
      " [56 80]\n",
      " [90 12]]\n"
     ]
    }
   ],
   "source": [
    "X = X.reshape((6,-1))\n",
    "print(X.shape)\n",
    "print(X)"
   ]
  },
  {
   "cell_type": "code",
   "execution_count": 7,
   "metadata": {},
   "outputs": [
    {
     "name": "stdout",
     "output_type": "stream",
     "text": [
      "(12, 1)\n",
      "[[ 4]\n",
      " [ 5]\n",
      " [ 7]\n",
      " [10]\n",
      " [10]\n",
      " [11]\n",
      " [13]\n",
      " [11]\n",
      " [56]\n",
      " [80]\n",
      " [90]\n",
      " [12]]\n"
     ]
    }
   ],
   "source": [
    "X = X.reshape((-1,1))\n",
    "print(X.shape)\n",
    "print(X)"
   ]
  },
  {
   "cell_type": "code",
   "execution_count": 8,
   "metadata": {},
   "outputs": [
    {
     "data": {
      "image/png": "[encoded data removed]",
      "text/plain": [
       "<Figure size 432x288 with 1 Axes>"
      ]
     },
     "metadata": {
      "needs_background": "light"
     },
     "output_type": "display_data"
    }
   ],
   "source": [
    "T = np.zeros((5,5,3),dtype='uint8')\n",
    "T[:,:,1] = 55\n",
    "import matplotlib.pyplot as plt\n",
    "plt.imshow(T)\n",
    "plt.show()"
   ]
  },
  {
   "cell_type": "markdown",
   "metadata": {},
   "source": [
    "## 3. Transpose\n",
    "\n",
    "- For a 2D Matrix Transpose can be Obtained as followe -> (A^T)[i,j] = A[j,i]\n",
    "- For a Vector, Transpose Makes Column Vector into a Row. x = [x1, x2, x3]^T"
   ]
  },
  {
   "cell_type": "code",
   "execution_count": 9,
   "metadata": {},
   "outputs": [
    {
     "name": "stdout",
     "output_type": "stream",
     "text": [
      "[[ 4]\n",
      " [ 5]\n",
      " [ 7]\n",
      " [10]\n",
      " [10]\n",
      " [11]\n",
      " [13]\n",
      " [11]\n",
      " [56]\n",
      " [80]\n",
      " [90]\n",
      " [12]]\n",
      "(12, 1)\n"
     ]
    }
   ],
   "source": [
    "print(X)\n",
    "print(X.shape)"
   ]
  },
  {
   "cell_type": "code",
   "execution_count": 10,
   "metadata": {},
   "outputs": [
    {
     "name": "stdout",
     "output_type": "stream",
     "text": [
      "(1, 12)\n",
      "[[ 4  5  7 10 10 11 13 11 56 80 90 12]]\n"
     ]
    }
   ],
   "source": [
    "XT = X.T\n",
    "print(XT.shape)\n",
    "print(XT)"
   ]
  },
  {
   "cell_type": "code",
   "execution_count": 11,
   "metadata": {},
   "outputs": [
    {
     "name": "stdout",
     "output_type": "stream",
     "text": [
      "[[ 4  5  7 10]\n",
      " [10 11 13 11]\n",
      " [56 80 90 12]]\n"
     ]
    }
   ],
   "source": [
    "X = X.reshape((3,4))\n",
    "print(X)"
   ]
  },
  {
   "cell_type": "code",
   "execution_count": 12,
   "metadata": {},
   "outputs": [
    {
     "name": "stdout",
     "output_type": "stream",
     "text": [
      "[[ 4 10 56]\n",
      " [ 5 11 80]\n",
      " [ 7 13 90]\n",
      " [10 11 12]]\n"
     ]
    }
   ],
   "source": [
    "XT = X.T\n",
    "print(XT)"
   ]
  },
  {
   "cell_type": "code",
   "execution_count": 13,
   "metadata": {},
   "outputs": [
    {
     "name": "stdout",
     "output_type": "stream",
     "text": [
      "(50, 25, 3)\n",
      "(3, 25, 50)\n"
     ]
    }
   ],
   "source": [
    "# Transpose of a Tensor\n",
    "T = np.zeros((50,25,3),dtype='uint8')\n",
    "TT = T.T\n",
    "print(T.shape)\n",
    "print(TT.shape)"
   ]
  },
  {
   "cell_type": "code",
   "execution_count": 14,
   "metadata": {},
   "outputs": [
    {
     "name": "stdout",
     "output_type": "stream",
     "text": [
      "(50, 25, 3)\n",
      "(3, 25, 50)\n"
     ]
    }
   ],
   "source": [
    "T = np.zeros((50,25,3),dtype='uint8')\n",
    "TT = np.transpose(T)\n",
    "print(T.shape)\n",
    "print(TT.shape)"
   ]
  },
  {
   "cell_type": "code",
   "execution_count": 15,
   "metadata": {},
   "outputs": [
    {
     "name": "stdout",
     "output_type": "stream",
     "text": [
      "(50, 25, 3)\n",
      "(50, 3, 25)\n"
     ]
    }
   ],
   "source": [
    "T = np.zeros((50,25,3),dtype='uint8')\n",
    "TT = np.transpose(T, axes=(0,2,1))\n",
    "print(T.shape)\n",
    "print(TT.shape) # Channels First Notation"
   ]
  },
  {
   "cell_type": "code",
   "execution_count": 16,
   "metadata": {},
   "outputs": [
    {
     "name": "stdout",
     "output_type": "stream",
     "text": [
      "[0 0 0]\n",
      "[0 0 0 0 0 0 0 0 0 0 0 0 0 0 0 0 0 0 0 0 0 0 0 0 0]\n"
     ]
    }
   ],
   "source": [
    "print(T[0][0])\n",
    "print(TT[0][0])"
   ]
  }
 ],
 "metadata": {
  "kernelspec": {
   "display_name": "Python 3",
   "language": "python",
   "name": "python3"
  },
  "language_info": {
   "codemirror_mode": {
    "name": "ipython",
    "version": 3
   },
   "file_extension": ".py",
   "mimetype": "text/x-python",
   "name": "python",
   "nbconvert_exporter": "python",
   "pygments_lexer": "ipython3",
   "version": "3.7.7"
  }
 },
 "nbformat": 4,
 "nbformat_minor": 2
}
