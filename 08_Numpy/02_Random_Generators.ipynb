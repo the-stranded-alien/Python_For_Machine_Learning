{
 "cells": [
  {
   "cell_type": "markdown",
   "metadata": {},
   "source": [
    "## Numpy Random Module\n",
    "\n",
    "- **rand**    :  Random Values In A Given Shape.\n",
    "- **randn**   :  Return A Sample (Or Samples) From The \"Standard Normal\" Distribution.\n",
    "- **randint** :  Return Random Integers From Low (Inclusive) To High (Exclusive).\n",
    "- **random**  :  Return Random Floats In The Half-Open Interval [0.0, 1.0).\n",
    "- **choice**  :  Generates A Random Sample From A Given 1-D Array.\n",
    "- **shuffle** :  Shuffles The Contents Of A Sequence."
   ]
  },
  {
   "cell_type": "code",
   "execution_count": 1,
   "metadata": {},
   "outputs": [],
   "source": [
    "import numpy as np"
   ]
  },
  {
   "cell_type": "code",
   "execution_count": 2,
   "metadata": {},
   "outputs": [
    {
     "name": "stdout",
     "output_type": "stream",
     "text": [
      "[0 1 2 3 4 5 6 7 8 9]\n"
     ]
    }
   ],
   "source": [
    "a = np.arange(10)\n",
    "print(a)"
   ]
  },
  {
   "cell_type": "code",
   "execution_count": 3,
   "metadata": {},
   "outputs": [
    {
     "name": "stdout",
     "output_type": "stream",
     "text": [
      "[ 5  6  7  8  9 10 11 12 13 14]\n"
     ]
    }
   ],
   "source": [
    "a = np.arange(10) + 5\n",
    "print(a)"
   ]
  },
  {
   "cell_type": "code",
   "execution_count": 4,
   "metadata": {},
   "outputs": [
    {
     "name": "stdout",
     "output_type": "stream",
     "text": [
      "[13 14  5  8 10  6 11  7  9 12]\n"
     ]
    }
   ],
   "source": [
    "# shuffle\n",
    "\n",
    "np.random.shuffle(a)\n",
    "print(a)"
   ]
  },
  {
   "cell_type": "code",
   "execution_count": 5,
   "metadata": {},
   "outputs": [
    {
     "name": "stdout",
     "output_type": "stream",
     "text": [
      "[ 5 12  8  6 14 13  7  9 11 10]\n"
     ]
    }
   ],
   "source": [
    "np.random.shuffle(a)\n",
    "print(a)"
   ]
  },
  {
   "cell_type": "code",
   "execution_count": 6,
   "metadata": {},
   "outputs": [],
   "source": [
    "# rand\n",
    "\n",
    "a = np.random.rand(2,3)"
   ]
  },
  {
   "cell_type": "code",
   "execution_count": 7,
   "metadata": {},
   "outputs": [
    {
     "name": "stdout",
     "output_type": "stream",
     "text": [
      "[[0.11051597 0.12622524 0.37548301]\n",
      " [0.64925976 0.58001782 0.01811643]]\n"
     ]
    }
   ],
   "source": [
    "print(a)"
   ]
  },
  {
   "cell_type": "code",
   "execution_count": 8,
   "metadata": {},
   "outputs": [
    {
     "name": "stdout",
     "output_type": "stream",
     "text": [
      "[[-0.90154691  0.33192123 -1.0773281 ]\n",
      " [-0.22739397 -1.11430845  1.43456048]]\n"
     ]
    }
   ],
   "source": [
    "# randn\n",
    "\n",
    "a = np.random.randn(2,3)\n",
    "print(a)"
   ]
  },
  {
   "cell_type": "code",
   "execution_count": 9,
   "metadata": {},
   "outputs": [
    {
     "name": "stdout",
     "output_type": "stream",
     "text": [
      "[6 8 9]\n"
     ]
    }
   ],
   "source": [
    "#randint\n",
    "a = np.random.randint(5,10,3)\n",
    "print(a)"
   ]
  },
  {
   "cell_type": "code",
   "execution_count": 10,
   "metadata": {},
   "outputs": [
    {
     "name": "stdout",
     "output_type": "stream",
     "text": [
      "2\n"
     ]
    }
   ],
   "source": [
    "# choice\n",
    "element = np.random.choice([1,2,3,5,6,3,5,7,8])\n",
    "print(element)"
   ]
  },
  {
   "cell_type": "code",
   "execution_count": 11,
   "metadata": {},
   "outputs": [
    {
     "name": "stdout",
     "output_type": "stream",
     "text": [
      "[0.62466487 0.75713289 0.6113505  0.06826471 0.25117852 0.86442578\n",
      " 0.09456375 0.38314351 0.46303993 0.25554952]\n"
     ]
    }
   ],
   "source": [
    "print(np.random.random(10))"
   ]
  },
  {
   "cell_type": "markdown",
   "metadata": {},
   "source": [
    "## Seed :-- Store The State Of The Random Machine\n",
    "\n",
    "- Help In Replicating The Same Results"
   ]
  },
  {
   "cell_type": "code",
   "execution_count": 12,
   "metadata": {},
   "outputs": [],
   "source": [
    "np.random.seed(1)"
   ]
  },
  {
   "cell_type": "code",
   "execution_count": 13,
   "metadata": {},
   "outputs": [
    {
     "name": "stdout",
     "output_type": "stream",
     "text": [
      "[4.17022005e-01 7.20324493e-01 1.14374817e-04 3.02332573e-01\n",
      " 1.46755891e-01 9.23385948e-02 1.86260211e-01 3.45560727e-01\n",
      " 3.96767474e-01 5.38816734e-01]\n"
     ]
    }
   ],
   "source": [
    "print(np.random.random(10))"
   ]
  },
  {
   "cell_type": "code",
   "execution_count": 14,
   "metadata": {},
   "outputs": [
    {
     "name": "stdout",
     "output_type": "stream",
     "text": [
      "[0.41919451 0.6852195  0.20445225 0.87811744 0.02738759 0.67046751\n",
      " 0.4173048  0.55868983 0.14038694 0.19810149]\n"
     ]
    }
   ],
   "source": [
    "print(np.random.random(10))"
   ]
  },
  {
   "cell_type": "code",
   "execution_count": 15,
   "metadata": {},
   "outputs": [
    {
     "name": "stdout",
     "output_type": "stream",
     "text": [
      "[0.80074457 0.96826158 0.31342418 0.69232262 0.87638915 0.89460666\n",
      " 0.08504421 0.03905478 0.16983042 0.8781425 ]\n"
     ]
    }
   ],
   "source": [
    "print(np.random.random(10))"
   ]
  }
 ],
 "metadata": {
  "kernelspec": {
   "display_name": "Python 3",
   "language": "python",
   "name": "python3"
  },
  "language_info": {
   "codemirror_mode": {
    "name": "ipython",
    "version": 3
   },
   "file_extension": ".py",
   "mimetype": "text/x-python",
   "name": "python",
   "nbconvert_exporter": "python",
   "pygments_lexer": "ipython3",
   "version": "3.7.7"
  }
 },
 "nbformat": 4,
 "nbformat_minor": 2
}
