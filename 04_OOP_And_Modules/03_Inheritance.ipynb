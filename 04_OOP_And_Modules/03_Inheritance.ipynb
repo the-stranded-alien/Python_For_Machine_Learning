{
 "cells": [
  {
   "cell_type": "code",
   "execution_count": 1,
   "metadata": {},
   "outputs": [],
   "source": [
    "class Dog:\n",
    "    kind = \"canine\" # Class Variable Shared By All Instances\n",
    "    def __init__(self, name):\n",
    "        self.name = name  # Instance Variable Unique To Each Instances"
   ]
  },
  {
   "cell_type": "code",
   "execution_count": 2,
   "metadata": {},
   "outputs": [],
   "source": [
    "a = Dog(\"tuffy\")"
   ]
  },
  {
   "cell_type": "code",
   "execution_count": 3,
   "metadata": {},
   "outputs": [
    {
     "name": "stdout",
     "output_type": "stream",
     "text": [
      "canine\n"
     ]
    }
   ],
   "source": [
    "print(a.kind)"
   ]
  },
  {
   "cell_type": "code",
   "execution_count": 4,
   "metadata": {},
   "outputs": [],
   "source": [
    "b = Dog(\"maxx\")"
   ]
  },
  {
   "cell_type": "code",
   "execution_count": 5,
   "metadata": {},
   "outputs": [
    {
     "name": "stdout",
     "output_type": "stream",
     "text": [
      "something\n"
     ]
    }
   ],
   "source": [
    "b.kind = \"something\"\n",
    "print(b.kind)"
   ]
  },
  {
   "cell_type": "code",
   "execution_count": 6,
   "metadata": {},
   "outputs": [
    {
     "name": "stdout",
     "output_type": "stream",
     "text": [
      "canine\n"
     ]
    }
   ],
   "source": [
    "print(a.kind)"
   ]
  },
  {
   "cell_type": "code",
   "execution_count": 7,
   "metadata": {},
   "outputs": [],
   "source": [
    "class Dog:\n",
    "    tricks = [] # Mistake (Shared By All Instances)\n",
    "    def __init__(self,name):\n",
    "        self.name = name\n",
    "        \n",
    "    def add_trick(self,trick):\n",
    "        self.tricks.append(trick)"
   ]
  },
  {
   "cell_type": "code",
   "execution_count": 8,
   "metadata": {},
   "outputs": [],
   "source": [
    "a = Dog(\"bruno\")\n",
    "b = Dog(\"maxx\")"
   ]
  },
  {
   "cell_type": "code",
   "execution_count": 9,
   "metadata": {},
   "outputs": [],
   "source": [
    "a.add_trick(\"fetch\")\n",
    "a.add_trick(\"Kick\")"
   ]
  },
  {
   "cell_type": "code",
   "execution_count": 10,
   "metadata": {},
   "outputs": [
    {
     "name": "stdout",
     "output_type": "stream",
     "text": [
      "['fetch', 'Kick']\n"
     ]
    }
   ],
   "source": [
    "print(a.tricks)"
   ]
  },
  {
   "cell_type": "code",
   "execution_count": 11,
   "metadata": {},
   "outputs": [
    {
     "name": "stdout",
     "output_type": "stream",
     "text": [
      "['fetch', 'Kick']\n"
     ]
    }
   ],
   "source": [
    "print(b.tricks)"
   ]
  },
  {
   "cell_type": "code",
   "execution_count": 12,
   "metadata": {},
   "outputs": [
    {
     "data": {
      "text/plain": [
       "2578405093448"
      ]
     },
     "execution_count": 12,
     "metadata": {},
     "output_type": "execute_result"
    }
   ],
   "source": [
    "id(b.tricks) "
   ]
  },
  {
   "cell_type": "code",
   "execution_count": 13,
   "metadata": {},
   "outputs": [
    {
     "data": {
      "text/plain": [
       "2578405093448"
      ]
     },
     "execution_count": 13,
     "metadata": {},
     "output_type": "execute_result"
    }
   ],
   "source": [
    "id(a.tricks) "
   ]
  },
  {
   "cell_type": "code",
   "execution_count": 14,
   "metadata": {},
   "outputs": [
    {
     "data": {
      "text/plain": [
       "2578405093448"
      ]
     },
     "execution_count": 14,
     "metadata": {},
     "output_type": "execute_result"
    }
   ],
   "source": [
    "id(Dog.tricks) "
   ]
  },
  {
   "cell_type": "code",
   "execution_count": 15,
   "metadata": {},
   "outputs": [],
   "source": [
    "class Dog:\n",
    "    def __init__(self,name):\n",
    "        self.name = name\n",
    "        self.tricks = []\n",
    "        \n",
    "    def add_trick(self,trick):\n",
    "        self.tricks.append(trick)"
   ]
  },
  {
   "cell_type": "code",
   "execution_count": 16,
   "metadata": {},
   "outputs": [],
   "source": [
    "a = Dog(\"bruno\")\n",
    "b = Dog(\"maxx\")"
   ]
  },
  {
   "cell_type": "code",
   "execution_count": 17,
   "metadata": {},
   "outputs": [],
   "source": [
    "a.add_trick(\"fetch\")\n",
    "a.add_trick(\"Kick\")"
   ]
  },
  {
   "cell_type": "code",
   "execution_count": 18,
   "metadata": {},
   "outputs": [
    {
     "name": "stdout",
     "output_type": "stream",
     "text": [
      "['fetch', 'Kick']\n"
     ]
    }
   ],
   "source": [
    "print(a.tricks)"
   ]
  },
  {
   "cell_type": "code",
   "execution_count": 19,
   "metadata": {},
   "outputs": [
    {
     "name": "stdout",
     "output_type": "stream",
     "text": [
      "[]\n"
     ]
    }
   ],
   "source": [
    "print(b.tricks)"
   ]
  },
  {
   "cell_type": "markdown",
   "metadata": {},
   "source": [
    "## Inheritance"
   ]
  },
  {
   "cell_type": "code",
   "execution_count": 20,
   "metadata": {},
   "outputs": [],
   "source": [
    "class SchoolMember:\n",
    "    \"\"\"Represent Any School Member\"\"\"\n",
    "    def __init__(self, name, age):\n",
    "        self.name = name\n",
    "        self.age = age\n",
    "        print(\"(Initialised School Member : {})\".format(self.name))\n",
    "        \n",
    "    def tell(self):\n",
    "        \"\"\"Tell Details\"\"\"\n",
    "        print(\"Name : {}, Age : {}\".format(self.name, self.age), end=\" \")"
   ]
  },
  {
   "cell_type": "code",
   "execution_count": 21,
   "metadata": {},
   "outputs": [],
   "source": [
    "class Teacher(SchoolMember):\n",
    "    \"\"\"Represents A Teacher\"\"\"\n",
    "    def __init__(self,name,age,salary):\n",
    "        SchoolMember.__init__(self,name,age)\n",
    "        self.salary = salary\n",
    "        print(\"(Initialised Teacher : {})\".format(self.name))\n",
    "    \n",
    "    def tell(self):\n",
    "        \"Tell Details\"\n",
    "        SchoolMember.tell(self)\n",
    "        print('Salary : \"{:d}\"'.format(self.salary))"
   ]
  },
  {
   "cell_type": "code",
   "execution_count": 22,
   "metadata": {},
   "outputs": [],
   "source": [
    "class Student(SchoolMember):\n",
    "    \"\"\"Represents A Student\"\"\"\n",
    "    def __init__(self,name,age,marks):\n",
    "        # SchoolMember.__init__(self,name,age)\n",
    "        super().__init__(name,age)\n",
    "        self.marks = marks\n",
    "        print(\"(Initialised Student : {})\".format(self.name))\n",
    "    \n",
    "    def tell(self):\n",
    "        \"Tell Details\"\n",
    "        super().tell() ## Correct Way To Override : Super()\n",
    "        print('Marks : \"{:d}\"'.format(self.marks))"
   ]
  },
  {
   "cell_type": "code",
   "execution_count": 23,
   "metadata": {},
   "outputs": [
    {
     "name": "stdout",
     "output_type": "stream",
     "text": [
      "(Initialised School Member : Sahil)\n",
      "(Initialised Teacher : Sahil)\n",
      "Name : Sahil, Age : 25 Salary : \"10000\"\n",
      "(Initialised School Member : Sahil)\n",
      "(Initialised Student : Sahil)\n",
      "Name : Sahil, Age : 20 Marks : \"100\"\n"
     ]
    }
   ],
   "source": [
    "t = Teacher(\"Sahil\",25,10000)\n",
    "t.tell()\n",
    "\n",
    "s = Student(\"Sahil\", 20, 100)\n",
    "s.tell()"
   ]
  },
  {
   "cell_type": "markdown",
   "metadata": {},
   "source": [
    "## Overloading And Overriding !!!\n",
    "\n",
    "- Python Don't Support Overloading\n",
    "- Python Only Supports Overriding !!!!"
   ]
  }
 ],
 "metadata": {
  "kernelspec": {
   "display_name": "Python 3",
   "language": "python",
   "name": "python3"
  },
  "language_info": {
   "codemirror_mode": {
    "name": "ipython",
    "version": 3
   },
   "file_extension": ".py",
   "mimetype": "text/x-python",
   "name": "python",
   "nbconvert_exporter": "python",
   "pygments_lexer": "ipython3",
   "version": "3.7.7"
  }
 },
 "nbformat": 4,
 "nbformat_minor": 2
}
