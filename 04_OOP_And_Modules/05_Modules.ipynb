{
 "cells": [
  {
   "cell_type": "markdown",
   "metadata": {},
   "source": [
    "### Modules In Python"
   ]
  },
  {
   "cell_type": "code",
   "execution_count": 1,
   "metadata": {},
   "outputs": [],
   "source": [
    "import Calculator"
   ]
  },
  {
   "cell_type": "code",
   "execution_count": 2,
   "metadata": {},
   "outputs": [
    {
     "data": {
      "text/plain": [
       "9"
      ]
     },
     "execution_count": 2,
     "metadata": {},
     "output_type": "execute_result"
    }
   ],
   "source": [
    "Calculator.add(4,5)"
   ]
  },
  {
   "cell_type": "code",
   "execution_count": 3,
   "metadata": {},
   "outputs": [
    {
     "data": {
      "text/plain": [
       "0"
      ]
     },
     "execution_count": 3,
     "metadata": {},
     "output_type": "execute_result"
    }
   ],
   "source": [
    "Calculator.div(4,5)"
   ]
  },
  {
   "cell_type": "code",
   "execution_count": 4,
   "metadata": {},
   "outputs": [
    {
     "data": {
      "text/plain": [
       "20"
      ]
     },
     "execution_count": 4,
     "metadata": {},
     "output_type": "execute_result"
    }
   ],
   "source": [
    "Calculator.mul(4,5)"
   ]
  },
  {
   "cell_type": "code",
   "execution_count": 5,
   "metadata": {},
   "outputs": [
    {
     "name": "stdout",
     "output_type": "stream",
     "text": [
      "<module 'Calculator' from 'C:\\\\Users\\\\hp\\\\Desktop\\\\Python_For_ML\\\\04_OOP_And_Modules\\\\Calculator.py'>\n"
     ]
    }
   ],
   "source": [
    "print(Calculator)"
   ]
  },
  {
   "cell_type": "code",
   "execution_count": 6,
   "metadata": {},
   "outputs": [],
   "source": [
    "from Calculator import add"
   ]
  },
  {
   "cell_type": "code",
   "execution_count": 7,
   "metadata": {},
   "outputs": [
    {
     "data": {
      "text/plain": [
       "10"
      ]
     },
     "execution_count": 7,
     "metadata": {},
     "output_type": "execute_result"
    }
   ],
   "source": [
    "add(4,6)"
   ]
  },
  {
   "cell_type": "code",
   "execution_count": 8,
   "metadata": {},
   "outputs": [],
   "source": [
    "from Calculator import * # Not Recommended !!"
   ]
  },
  {
   "cell_type": "code",
   "execution_count": 9,
   "metadata": {},
   "outputs": [
    {
     "data": {
      "text/plain": [
       "3"
      ]
     },
     "execution_count": 9,
     "metadata": {},
     "output_type": "execute_result"
    }
   ],
   "source": [
    "add(1,2)"
   ]
  },
  {
   "cell_type": "code",
   "execution_count": 10,
   "metadata": {},
   "outputs": [
    {
     "data": {
      "text/plain": [
       "12"
      ]
     },
     "execution_count": 10,
     "metadata": {},
     "output_type": "execute_result"
    }
   ],
   "source": [
    "mul(6,2)"
   ]
  },
  {
   "cell_type": "code",
   "execution_count": 12,
   "metadata": {},
   "outputs": [
    {
     "data": {
      "text/plain": [
       "4"
      ]
     },
     "execution_count": 12,
     "metadata": {},
     "output_type": "execute_result"
    }
   ],
   "source": [
    "sub(9,5)"
   ]
  },
  {
   "cell_type": "code",
   "execution_count": 13,
   "metadata": {},
   "outputs": [
    {
     "name": "stdout",
     "output_type": "stream",
     "text": [
      "{'__name__': '__main__', '__doc__': 'Automatically created module for IPython interactive environment', '__package__': None, '__loader__': None, '__spec__': None, '__builtin__': <module 'builtins' (built-in)>, '__builtins__': <module 'builtins' (built-in)>, '_ih': ['', 'import Calculator', 'Calculator.add(4,5)', 'Calculator.div(4,5)', 'Calculator.mul(4,5)', 'print(Calculator)', 'from Calculator import add', 'add(4,6)', 'from Calculator import *', 'add(1,2)', 'mul(6,2)', 'sub(9-5)', 'sub(9,5)', 'print(globals())'], '_oh': {2: 9, 3: 0, 4: 20, 7: 10, 9: 3, 10: 12, 12: 4}, '_dh': ['C:\\\\Users\\\\hp\\\\Desktop\\\\Python_For_ML\\\\04_OOP_And_Modules'], 'In': ['', 'import Calculator', 'Calculator.add(4,5)', 'Calculator.div(4,5)', 'Calculator.mul(4,5)', 'print(Calculator)', 'from Calculator import add', 'add(4,6)', 'from Calculator import *', 'add(1,2)', 'mul(6,2)', 'sub(9-5)', 'sub(9,5)', 'print(globals())'], 'Out': {2: 9, 3: 0, 4: 20, 7: 10, 9: 3, 10: 12, 12: 4}, 'get_ipython': <bound method InteractiveShell.get_ipython of <ipykernel.zmqshell.ZMQInteractiveShell object at 0x0000019A391E8FC8>>, 'exit': <IPython.core.autocall.ZMQExitAutocall object at 0x0000019A39299C48>, 'quit': <IPython.core.autocall.ZMQExitAutocall object at 0x0000019A39299C48>, '_': 4, '__': 12, '___': 3, '_i': 'sub(9,5)', '_ii': 'sub(9-5)', '_iii': 'mul(6,2)', '_i1': 'import Calculator', 'Calculator': <module 'Calculator' from 'C:\\\\Users\\\\hp\\\\Desktop\\\\Python_For_ML\\\\04_OOP_And_Modules\\\\Calculator.py'>, '_i2': 'Calculator.add(4,5)', '_2': 9, '_i3': 'Calculator.div(4,5)', '_3': 0, '_i4': 'Calculator.mul(4,5)', '_4': 20, '_i5': 'print(Calculator)', '_i6': 'from Calculator import add', 'add': <function add at 0x0000019A393121F8>, '_i7': 'add(4,6)', '_7': 10, '_i8': 'from Calculator import *', 'sub': <function sub at 0x0000019A39312708>, 'mul': <function mul at 0x0000019A39312798>, 'div': <function div at 0x0000019A39312828>, '_i9': 'add(1,2)', '_9': 3, '_i10': 'mul(6,2)', '_10': 12, '_i11': 'sub(9-5)', '_i12': 'sub(9,5)', '_12': 4, '_i13': 'print(globals())'}\n"
     ]
    }
   ],
   "source": [
    "print(globals())"
   ]
  },
  {
   "cell_type": "code",
   "execution_count": 14,
   "metadata": {},
   "outputs": [],
   "source": [
    "from Calculator import add, sub # Right Method"
   ]
  },
  {
   "cell_type": "code",
   "execution_count": 15,
   "metadata": {},
   "outputs": [],
   "source": [
    "from Calculator import (\n",
    "    add,\n",
    "    sub,\n",
    "    mul,\n",
    "    div\n",
    ")"
   ]
  },
  {
   "cell_type": "markdown",
   "metadata": {},
   "source": [
    "### Aliases"
   ]
  },
  {
   "cell_type": "code",
   "execution_count": 16,
   "metadata": {},
   "outputs": [],
   "source": [
    "def Calculator(a):\n",
    "    print(a)"
   ]
  },
  {
   "cell_type": "code",
   "execution_count": 19,
   "metadata": {},
   "outputs": [],
   "source": [
    "import Calculator as lib"
   ]
  },
  {
   "cell_type": "code",
   "execution_count": 20,
   "metadata": {},
   "outputs": [
    {
     "data": {
      "text/plain": [
       "9"
      ]
     },
     "execution_count": 20,
     "metadata": {},
     "output_type": "execute_result"
    }
   ],
   "source": [
    "lib.add(4,5)"
   ]
  },
  {
   "cell_type": "code",
   "execution_count": 21,
   "metadata": {},
   "outputs": [],
   "source": [
    "from Calculator import (\n",
    "    add as addition,\n",
    "    sub as difference\n",
    ")"
   ]
  },
  {
   "cell_type": "code",
   "execution_count": 22,
   "metadata": {},
   "outputs": [
    {
     "data": {
      "text/plain": [
       "9"
      ]
     },
     "execution_count": 22,
     "metadata": {},
     "output_type": "execute_result"
    }
   ],
   "source": [
    "addition(4,5)"
   ]
  },
  {
   "cell_type": "code",
   "execution_count": 23,
   "metadata": {},
   "outputs": [
    {
     "data": {
      "text/plain": [
       "1"
      ]
     },
     "execution_count": 23,
     "metadata": {},
     "output_type": "execute_result"
    }
   ],
   "source": [
    "difference(8,7)"
   ]
  }
 ],
 "metadata": {
  "kernelspec": {
   "display_name": "Python 3",
   "language": "python",
   "name": "python3"
  },
  "language_info": {
   "codemirror_mode": {
    "name": "ipython",
    "version": 3
   },
   "file_extension": ".py",
   "mimetype": "text/x-python",
   "name": "python",
   "nbconvert_exporter": "python",
   "pygments_lexer": "ipython3",
   "version": "3.7.7"
  }
 },
 "nbformat": 4,
 "nbformat_minor": 2
}
